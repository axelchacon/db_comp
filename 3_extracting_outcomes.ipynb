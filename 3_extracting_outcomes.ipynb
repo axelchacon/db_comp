{
 "cells": [
  {
   "cell_type": "markdown",
   "metadata": {},
   "source": [
    "# Extracting Outcomes of Decisions\n",
    "\n",
    "- The following code will extract the outcomes of decisions from the processed text. \n",
    "- This involves identifying and isolating specific sections of the text that pertain to the decisions and their outcomes."
   ]
  },
  {
   "cell_type": "code",
   "execution_count": 3,
   "metadata": {},
   "outputs": [
    {
     "name": "stderr",
     "output_type": "stream",
     "text": [
      "C:\\Users\\PC\\AppData\\Local\\Temp\\ipykernel_24332\\4113098713.py:1: DeprecationWarning: \n",
      "Pyarrow will become a required dependency of pandas in the next major release of pandas (pandas 3.0),\n",
      "(to allow more performant data types, such as the Arrow string type, and better interoperability with other libraries)\n",
      "but was not found to be installed on your system.\n",
      "If this would cause problems for you,\n",
      "please provide us feedback at https://github.com/pandas-dev/pandas/issues/54466\n",
      "        \n",
      "  import pandas as pd\n"
     ]
    }
   ],
   "source": [
    "import pandas as pd\n",
    "import regex as re"
   ]
  },
  {
   "cell_type": "code",
   "execution_count": 2,
   "metadata": {},
   "outputs": [
    {
     "name": "stdout",
     "output_type": "stream",
     "text": [
      "Number of cases: 716\n"
     ]
    }
   ],
   "source": [
    "df = pd.read_csv(r'D:\\Proyectos\\db_comp\\corpus.csv')\n",
    "\n",
    "unique_values_count = df['Filename'].nunique()\n",
    "\n",
    "print(\"Number of cases:\", unique_values_count)"
   ]
  },
  {
   "cell_type": "code",
   "execution_count": 3,
   "metadata": {},
   "outputs": [],
   "source": [
    "# For the purpose of this project, we will work only with case law written in English.\n",
    "\n",
    "from langdetect import detect, LangDetectException\n",
    "\n",
    "# Assuming df is already loaded and Text column is present\n",
    "df['Text'] = df['Text'].fillna('')\n",
    "\n",
    "# Function to detect if the text is in English\n",
    "def is_english(text):\n",
    "    try:\n",
    "        return detect(text) == 'en'\n",
    "    except LangDetectException:\n",
    "        return False\n",
    "\n",
    "# Apply the language detection function and classify as 'si' for English, 'no' otherwise\n",
    "df['Classification'] = df['Text'].apply(lambda x: 'si' if is_english(x) else 'no')"
   ]
  },
  {
   "cell_type": "code",
   "execution_count": 4,
   "metadata": {},
   "outputs": [
    {
     "name": "stdout",
     "output_type": "stream",
     "text": [
      "Number of cases: 677\n"
     ]
    }
   ],
   "source": [
    "en_case_law = df[df['Classification'] == 'si']\n",
    "unique_values_count = en_case_law['Filename'].nunique()\n",
    "\n",
    "print(\"Number of cases:\", unique_values_count)"
   ]
  },
  {
   "cell_type": "code",
   "execution_count": 5,
   "metadata": {},
   "outputs": [
    {
     "name": "stderr",
     "output_type": "stream",
     "text": [
      "C:\\Users\\PC\\AppData\\Local\\Temp\\ipykernel_5856\\48865677.py:1: SettingWithCopyWarning: \n",
      "A value is trying to be set on a copy of a slice from a DataFrame\n",
      "\n",
      "See the caveats in the documentation: https://pandas.pydata.org/pandas-docs/stable/user_guide/indexing.html#returning-a-view-versus-a-copy\n",
      "  en_case_law.drop('Classification', axis=1, inplace=True)\n"
     ]
    }
   ],
   "source": [
    "en_case_law.drop('Classification', axis=1, inplace=True)"
   ]
  },
  {
   "cell_type": "code",
   "execution_count": 6,
   "metadata": {},
   "outputs": [
    {
     "name": "stderr",
     "output_type": "stream",
     "text": [
      "C:\\Users\\PC\\AppData\\Local\\Temp\\ipykernel_5856\\1393835460.py:7: SettingWithCopyWarning: \n",
      "A value is trying to be set on a copy of a slice from a DataFrame.\n",
      "Try using .loc[row_indexer,col_indexer] = value instead\n",
      "\n",
      "See the caveats in the documentation: https://pandas.pydata.org/pandas-docs/stable/user_guide/indexing.html#returning-a-view-versus-a-copy\n",
      "  en_case_law['Classification'] = en_case_law['Text'].apply(lambda x: 'si' if re.search(pattern1, x, flags=re.IGNORECASE) else 'no')\n"
     ]
    }
   ],
   "source": [
    "# Keeping the rows that potentially contain outcome of the case law\n",
    "\n",
    "pattern1 = r'D\\s*E\\s*C\\s*I\\s*S\\s*I\\s*O\\s*N\\s*:\\s*'\n",
    "\n",
    "# Use regex to check if either pattern appears in each row of the 'text' column\n",
    "# Assign 'si' if either pattern is found, otherwise 'no'\n",
    "en_case_law['Classification'] = en_case_law['Text'].apply(lambda x: 'si' if re.search(pattern1, x, flags=re.IGNORECASE) else 'no')"
   ]
  },
  {
   "cell_type": "code",
   "execution_count": 7,
   "metadata": {},
   "outputs": [
    {
     "name": "stdout",
     "output_type": "stream",
     "text": [
      "Number of unique values: 536\n"
     ]
    }
   ],
   "source": [
    "indices_to_keep = []\n",
    "\n",
    "# Iterate over each unique filename\n",
    "for filename in en_case_law['Filename'].unique():\n",
    "    # Find the first occurrence of 'si' for the current filename\n",
    "    first_si_index = en_case_law[(en_case_law['Filename'] == filename) & (en_case_law['Classification'] == 'si')].index.min()\n",
    "    if pd.notnull(first_si_index):\n",
    "        # Keep all rows after the first 'si' occurrence within the current filename\n",
    "        indices_to_keep.extend(en_case_law.index[(en_case_law['Filename'] == filename) & (en_case_law.index >= first_si_index)].tolist())\n",
    "\n",
    "# Filter the DataFrame using the indices to keep\n",
    "final_decision = en_case_law.loc[indices_to_keep]\n",
    "\n",
    "unique_values_count = final_decision['Filename'].nunique()\n",
    "\n",
    "print(\"Number of unique values:\", unique_values_count)"
   ]
  },
  {
   "cell_type": "code",
   "execution_count": 8,
   "metadata": {},
   "outputs": [
    {
     "data": {
      "text/html": [
       "<div>\n",
       "<style scoped>\n",
       "    .dataframe tbody tr th:only-of-type {\n",
       "        vertical-align: middle;\n",
       "    }\n",
       "\n",
       "    .dataframe tbody tr th {\n",
       "        vertical-align: top;\n",
       "    }\n",
       "\n",
       "    .dataframe thead th {\n",
       "        text-align: right;\n",
       "    }\n",
       "</style>\n",
       "<table border=\"1\" class=\"dataframe\">\n",
       "  <thead>\n",
       "    <tr style=\"text-align: right;\">\n",
       "      <th></th>\n",
       "      <th>Filename</th>\n",
       "      <th>Text</th>\n",
       "    </tr>\n",
       "  </thead>\n",
       "  <tbody>\n",
       "    <tr>\n",
       "      <th>0</th>\n",
       "      <td>1998_football_world_cup.pdf</td>\n",
       "      <td>EN Official Journal of the European Communitie...</td>\n",
       "    </tr>\n",
       "    <tr>\n",
       "      <th>1</th>\n",
       "      <td>ab_inbev_beer_trade_restrictions.pdf</td>\n",
       "      <td>EN EN 57  13.2.3.  Duration   (254) The overal...</td>\n",
       "    </tr>\n",
       "    <tr>\n",
       "      <th>2</th>\n",
       "      <td>abg_oil_companies_operating_in_the_netherlands...</td>\n",
       "      <td>NoL117/12 OfficialJournaloftheEuropeanCommunit...</td>\n",
       "    </tr>\n",
       "    <tr>\n",
       "      <th>3</th>\n",
       "      <td>abi.pdf</td>\n",
       "      <td>13.2.87 OfficialJournaloftheEuropeanCommunitie...</td>\n",
       "    </tr>\n",
       "    <tr>\n",
       "      <th>4</th>\n",
       "      <td>adalat.pdf</td>\n",
       "      <td>NoL201/58fENl OfficialJournaloftheEuropeanComm...</td>\n",
       "    </tr>\n",
       "    <tr>\n",
       "      <th>...</th>\n",
       "      <td>...</td>\n",
       "      <td>...</td>\n",
       "    </tr>\n",
       "    <tr>\n",
       "      <th>531</th>\n",
       "      <td>zanussi.pdf</td>\n",
       "      <td>NoL322/40 OfficialJournaloftheEuropeanCommunit...</td>\n",
       "    </tr>\n",
       "    <tr>\n",
       "      <th>532</th>\n",
       "      <td>zenimax.pdf</td>\n",
       "      <td>EN 42  EN 13.4.7.  Reduction of the fine in vi...</td>\n",
       "    </tr>\n",
       "    <tr>\n",
       "      <th>533</th>\n",
       "      <td>zeramontedison_and_ihinkensstähler.pdf</td>\n",
       "      <td>4.11.93 OfficialJournaloftheEuropeanCommunitie...</td>\n",
       "    </tr>\n",
       "    <tr>\n",
       "      <th>534</th>\n",
       "      <td>zinc_phosphate.pdf</td>\n",
       "      <td>(359) On the basis of the above, the Commissio...</td>\n",
       "    </tr>\n",
       "    <tr>\n",
       "      <th>535</th>\n",
       "      <td>zinc_producer_group.pdf</td>\n",
       "      <td>No L 220/44 Official Journal of the European C...</td>\n",
       "    </tr>\n",
       "  </tbody>\n",
       "</table>\n",
       "<p>536 rows × 2 columns</p>\n",
       "</div>"
      ],
      "text/plain": [
       "                                              Filename  \\\n",
       "0                          1998_football_world_cup.pdf   \n",
       "1                 ab_inbev_beer_trade_restrictions.pdf   \n",
       "2    abg_oil_companies_operating_in_the_netherlands...   \n",
       "3                                              abi.pdf   \n",
       "4                                           adalat.pdf   \n",
       "..                                                 ...   \n",
       "531                                        zanussi.pdf   \n",
       "532                                        zenimax.pdf   \n",
       "533             zeramontedison_and_ihinkensstähler.pdf   \n",
       "534                                 zinc_phosphate.pdf   \n",
       "535                            zinc_producer_group.pdf   \n",
       "\n",
       "                                                  Text  \n",
       "0    EN Official Journal of the European Communitie...  \n",
       "1    EN EN 57  13.2.3.  Duration   (254) The overal...  \n",
       "2    NoL117/12 OfficialJournaloftheEuropeanCommunit...  \n",
       "3    13.2.87 OfficialJournaloftheEuropeanCommunitie...  \n",
       "4    NoL201/58fENl OfficialJournaloftheEuropeanComm...  \n",
       "..                                                 ...  \n",
       "531  NoL322/40 OfficialJournaloftheEuropeanCommunit...  \n",
       "532  EN 42  EN 13.4.7.  Reduction of the fine in vi...  \n",
       "533  4.11.93 OfficialJournaloftheEuropeanCommunitie...  \n",
       "534  (359) On the basis of the above, the Commissio...  \n",
       "535  No L 220/44 Official Journal of the European C...  \n",
       "\n",
       "[536 rows x 2 columns]"
      ]
     },
     "execution_count": 8,
     "metadata": {},
     "output_type": "execute_result"
    }
   ],
   "source": [
    "final_decision = final_decision.groupby('Filename')['Text'].apply(' '.join).reset_index()\n",
    "final_decision['Text'] = final_decision['Text'].str.replace(\"\\n\", \" \")\n",
    "\n",
    "final_decision"
   ]
  },
  {
   "cell_type": "code",
   "execution_count": 9,
   "metadata": {},
   "outputs": [
    {
     "data": {
      "text/plain": [
       "\"EN EN 57  13.2.3.  Duration   (254) The overall duration of the infringement, as set out in Section 9, amounts to 2822  days. Therefore, for the purpose of the calculation of the fine, the amount determined  in Recital (251) and (253), should be multiplied by 7.72 to take account of the  duration of the  infringement.   13.2.4.  Aggravating and mitigating  circumstances   (255) The Commission considers  that no aggravating or mitigating circumstances apply in  this case.  13.2.5.  Deterrence  multiplier   (256) Point 30 of the Guidelines on Fines provides for the possibility of increasing the fine  to ensure that fines have a sufficiently deterrent effect in the case of undertakings  which have a particularly large turnover beyond the sales of goods and services to  which the infringement  relates.   (257) Given that the value of sales to be taken into account in this case amounts to less than  [0-1%] of the total turnover generated by AB InBev during the 2018 financial year  (in other words, the business year preceding the date of this Decision), and that AB  InBev had a particularly large turnover in 2018 (EUR 46 295 million) beyond the  revenues generated by its off -trade beer sales i n Belgium and the Netherlands, the  Commission concludes that the basic amount of the fine should be multiplied by  1.1.  13.2.6.  Application of the 10% turnover  limit  (258) The fine for the infringement does not exceed 10% of AB InBev’s total turnover  relating to the busi ness year preceding the date of adoption of this Decision pursuant  to Article 23(2) of Regulation (EC) No  1/2003.   13.2.7.  Reduction of the fine in view of  cooperation   (259) Point 37 of the Guidelines on Fines allows the Commission to depart from the  methodology set out in those Guidelines if the particularities of the case justify  it.  (260) In the present case, the Commission considers that AB InBev has cooperated with   the Commission. The Commission takes account of AB InBev’s cooperation beyond  its legal obligation to do so by, first, acknowledging the infringement of Article 102  of the Treaty arising from the conduct, and, second, proposing a remedy referred to  in Section 12.2 to prevent reiteration of the practice as referred to in Section  7.4.2.1.   (261) In view of the effective cooperation provided by AB InBev in this case, the  Commission considers that the amount of the applicable fine should therefore be  reduced by  15%.   13.2.8.  Conclusion: final amount of the  fine  (262) The Commission concludes that the final amount of the fine to be imposed  on AB  InBev should be EUR 200 409  000.    HAS ADOPTED THIS DECISION:     Article 1   Anheuser -Busch InBev NV/SA, InBev Belgium BVBA/SPRL and InBev Nederland NV have  participated in a single and continuous infringement of Article 102 of the Treaty with the overall   EN EN 58  aim of restricting imports of AB InBev beer products from the Netherlands into Belgium and of  maintaining higher prices and profits in Belgium:   (a) limiting the volumes of beer products supplied to [...] in the Netherlands to restrict   imports of these products into  Belgium,   (b) implementing changes in the packaging of beer products supplied to off -trade  customers in the Netherlands to restrict imports of these products into  Belgium,   (c) making the supplies to Albert Heijn in Belgium of beer pr oducts, not available in the  Netherlands, conditional on the purchase in Belgium of other beer products also  available in the Netherlands,  and  (d) making promotions for beer products offered to Albert Heijn in the Netherlands  conditional upon not offering the promotions in  Belgium.     The infringement lasted from 9 February 2009 until 31 October 2016.     Article 2   For the single and continuous infringement referred to in Article 1, a fine of EUR 200 409 000 is  imposed on Anheuser -Busch InBev NV/SA, InBev Belgium BVBA/SPRL and InBev  Nederland NV, jointly and severally.   The fine shall be credited, in euros, within three months of the date of notification of this  Decision, to the following bank account held in the name of the European Commission:   BANQUE ET CAISSE D'E PARGNE DE L'ETAT   1-2, Place de Metz   L-1930 Luxembourg     IBAN: LU02 0019 3155 9887 1000  BIC: BCEELULL   Ref.: European Commission – BUFI/AT.40134   After the expiry of that period, interest shall automatically be payable at the interest rate applied  by the Europ ean Central Bank to its main refinancing operations on the first day of the month in  which this Decision is adopted, plus 3.5 percentage points.   Where an undertaking referred to in Article 1 lodges an appeal, that undertaking shall cover the  fine by the du e date, either by providing an acceptable financial guarantee or by making a  provisional payment of the fine in accordance with Article 108 of Regulation (EU, Euratom)  2018/1046282.    Article 3   Anheuser -Busch InBev NV/SA, InBev Belgium BVBA/SPRL and InBev Nederland NV shall  immediately bring to an end the infringement referred to in Article 1 in so far as it has not  already done so.             282 OJ L 193, 30.7.2018, p.  80.  EN EN 59  Anheuser -Busch InBev NV/SA, InBev Belgium BVBA/SPRL and InBev Nederland NV shall  refrain from repeating any act or conduct described in Article 1, and any act or conduct having  the same or equivalent object or effect.     Article 4   During a period of five years from the date of notification of this Decision, Anheuser -Busch  InBev NV/SA, InBev Belgium BVBA/SPRL and InBev Nederland NV shall provide the  mandatory food labelling information in both Dutch and French languages on the packaging  of all its current and future products of 19 specific beer brands, sold by InBev Belgium  BVBA/SPRL, AB InBev France SAS and/or InBev Nederland NV and any of their controlled  companies or their successors in their supplies to off -trade customers in the Netherlands,  Belgium  and/or  France.  The 19 beer brands  are: 1) Atlas,  2) Belle -Vue,  3) Budweiser,  4)  Corona, 5) Coronita, 6) Cubanisto, 7) Deus, 8) Ginette, 9) Goose Island, 10) Hoegaarden, 11)   Jupiler, 12) Kwak, 13) Leffe, 14) Modelo, 15) Pacifico, 16) Piedboeuf, 17) Pure Blonde, 1 8)  Stella Artois, 19) Tripel Karmeliet   Anheuser -Busch InBev NV/SA, InBev Belgium BVBA/SPRL and InBev Nederland NV and  any of their controlled companies or their successors shall implement this Remedy for current   products, no later than six months from the date of notification of this Decision, and for new  products  within  six months  from  the date of notification  of this Decision.   Anheuser -Busch InBev NV/SA, InBev Belgium BVBA/SPRL and InBev Nederland NV and any  of their controlled companies or their successors shall provide the Commission with a report on  the implementation  of the Remedy within nine months following the notification of this  Decision. This report will contain an overview of the labelling and packaging changes that were  made to comply with the Remedy.   Anheuser -Busch InBev NV/SA, InBev Belgium BVBA/SPRL and InBev Nederland NV and any  of their controlled companies or their successors shall provide the Commission with  a final  report  on the application  of the Remedy  within  three  months  after the expiration  of the Remedy’s  duration period of five years. This report will contain the following information for each full  calendar year during which the Remedy is applicable:   ( a ) An overview of all new AB InBev products and packaging innovations which were  introduced in the Netherlands, Belgium and/or France, further specifying if these  products contained mandatory food information in dual language, that is Dutch and  French  ;  ( b) An overview of the volume percentage represented by the brands covered by the  Remedy sold in the Netherlands, Belgium and France compared to the total AB InBev   off-trade sales volume in the Netherlands, Belgium and France;   ( c ) An overview of all 'multipack' packages consisting of individually packed items, for  which the individual prepacked items did not contain mandatory food information in  dual language, that is Dutch and French.   Anheuser -Busch InBev NV/SA, InBev Belgium BVBA/SPRL and InBev Nederland NV and any  of their controlled companies or their successors shall provide the Commission with written  notice promptly upon becoming aware that any third party has commenced an action before a  competent regulatory authority or court alleging that it has violated any of the terms of the  Remedy.   Anheuser -Busch InBev NV/SA, InBev Belgium BVBA/SPRL and InBev Nederland NV and any  of their controlled companies or their successors may seek review with the Commission of the  EN EN 60  application of the Remedy in light of any material changes in law or market circumst ances or to  alleviate any unforeseen hardship that make appropriate some exception or modification of its  terms. The Commission will retain discretion to decide upon any such application, which it will  consider duly.     Article 5   Should Anheuser -Busch InBev NV/SA, InBev Belgium BVBA/SPRL and InBev Nederland   NV fail to comply with any of the obligations set out in Article 3 and 4 of this Decision within  the deadlines referred to in Article 3 and 4, the Commission shall impose a daily penalty  payment on that undertaking of 2.5% of Anheuser -Busch InBev NV/SA’s daily consolidated  turnover in the proceeding business year in accordance with Article 24(1)(a) of Regulation (EC)  No 1/2003.   That penalty shall be calculated as from the first day following the expiry of the deadlines   referred to in Article 3 and 4.    Article 6   This Decision is addressed to:     Anheuser -Busch InBev NV/SA, Grand Place 1, 1000 Brussels, Belgium     InBev Belgium BVBA/SPRL, Boulevard Industriel 21, 1070 Brussels, Belgium  InBev Nederland NV, Ceresstraat 1, 4811 CA Breda, The Netherlands     This Decision shall be enforceable pursuant to Article 299 of the Treaty.  Done at Brussels, 13.5.2019       For the Commission  Margrethe VESTAGER  Member of the Commission         \""
      ]
     },
     "execution_count": 9,
     "metadata": {},
     "output_type": "execute_result"
    }
   ],
   "source": [
    "cell_value = final_decision.at[1, 'Text']\n",
    "cell_value"
   ]
  },
  {
   "cell_type": "code",
   "execution_count": 10,
   "metadata": {},
   "outputs": [],
   "source": [
    "non_final_decisions = en_case_law[~en_case_law['Filename'].isin(final_decision['Filename'])]\n",
    "non_final_decisions = non_final_decisions.groupby('Filename')['Text'].apply(' '.join).reset_index()\n",
    "non_final_decisions['Text'] = non_final_decisions['Text'].str.replace(\"\\n\", \" \")"
   ]
  },
  {
   "cell_type": "code",
   "execution_count": 11,
   "metadata": {},
   "outputs": [],
   "source": [
    "final_decision.to_csv(r'D:\\Proyectos\\db_comp\\en_final_decisions.csv')\n",
    "non_final_decisions.to_csv(r'D:\\Proyectos\\db_comp\\en_non_final_decisions.csv')"
   ]
  },
  {
   "cell_type": "code",
   "execution_count": 4,
   "metadata": {},
   "outputs": [],
   "source": [
    "final_decision =pd.read_csv(r'D:\\Proyectos\\db_comp\\en_final_decisions.csv')"
   ]
  },
  {
   "cell_type": "code",
   "execution_count": 5,
   "metadata": {},
   "outputs": [
    {
     "data": {
      "text/html": [
       "<div>\n",
       "<style scoped>\n",
       "    .dataframe tbody tr th:only-of-type {\n",
       "        vertical-align: middle;\n",
       "    }\n",
       "\n",
       "    .dataframe tbody tr th {\n",
       "        vertical-align: top;\n",
       "    }\n",
       "\n",
       "    .dataframe thead th {\n",
       "        text-align: right;\n",
       "    }\n",
       "</style>\n",
       "<table border=\"1\" class=\"dataframe\">\n",
       "  <thead>\n",
       "    <tr style=\"text-align: right;\">\n",
       "      <th></th>\n",
       "      <th>Unnamed: 0</th>\n",
       "      <th>Filename</th>\n",
       "      <th>Text</th>\n",
       "    </tr>\n",
       "  </thead>\n",
       "  <tbody>\n",
       "    <tr>\n",
       "      <th>0</th>\n",
       "      <td>0</td>\n",
       "      <td>1998_football_world_cup.pdf</td>\n",
       "      <td>Article 1 The Comité français d'organisation d...</td>\n",
       "    </tr>\n",
       "    <tr>\n",
       "      <th>1</th>\n",
       "      <td>1</td>\n",
       "      <td>ab_inbev_beer_trade_restrictions.pdf</td>\n",
       "      <td>Article 1   Anheuser -Busch InBev NV/SA, InBev...</td>\n",
       "    </tr>\n",
       "    <tr>\n",
       "      <th>2</th>\n",
       "      <td>2</td>\n",
       "      <td>abg_oil_companies_operating_in_the_netherlands...</td>\n",
       "      <td>Article 1 Thecontributions madebytheotheroilco...</td>\n",
       "    </tr>\n",
       "    <tr>\n",
       "      <th>3</th>\n",
       "      <td>3</td>\n",
       "      <td>abi.pdf</td>\n",
       "      <td>Article1 Onthebasisofthefactsinitspossession,t...</td>\n",
       "    </tr>\n",
       "    <tr>\n",
       "      <th>4</th>\n",
       "      <td>4</td>\n",
       "      <td>adalat.pdf</td>\n",
       "      <td>Article 1 Theprohibition ontheexportation toot...</td>\n",
       "    </tr>\n",
       "    <tr>\n",
       "      <th>...</th>\n",
       "      <td>...</td>\n",
       "      <td>...</td>\n",
       "      <td>...</td>\n",
       "    </tr>\n",
       "    <tr>\n",
       "      <th>531</th>\n",
       "      <td>531</td>\n",
       "      <td>zanussi.pdf</td>\n",
       "      <td>Article1 Ontheinformationatitsdisposal,theComm...</td>\n",
       "    </tr>\n",
       "    <tr>\n",
       "      <th>532</th>\n",
       "      <td>532</td>\n",
       "      <td>zenimax.pdf</td>\n",
       "      <td>Article 1   ZeniMax  Media Inc., ZeniMax Europ...</td>\n",
       "    </tr>\n",
       "    <tr>\n",
       "      <th>533</th>\n",
       "      <td>533</td>\n",
       "      <td>zeramontedison_and_ihinkensstähler.pdf</td>\n",
       "      <td>Article1 FarmoplantSpA,Milan(subsequentlyAgrim...</td>\n",
       "    </tr>\n",
       "    <tr>\n",
       "      <th>534</th>\n",
       "      <td>534</td>\n",
       "      <td>zinc_phosphate.pdf</td>\n",
       "      <td>Article 1 Britannia Alloys &amp; Chemicals Limited...</td>\n",
       "    </tr>\n",
       "    <tr>\n",
       "      <th>535</th>\n",
       "      <td>535</td>\n",
       "      <td>zinc_producer_group.pdf</td>\n",
       "      <td>Article 1  1. The undertakings :  Billiton Ned...</td>\n",
       "    </tr>\n",
       "  </tbody>\n",
       "</table>\n",
       "<p>536 rows × 3 columns</p>\n",
       "</div>"
      ],
      "text/plain": [
       "     Unnamed: 0                                           Filename  \\\n",
       "0             0                        1998_football_world_cup.pdf   \n",
       "1             1               ab_inbev_beer_trade_restrictions.pdf   \n",
       "2             2  abg_oil_companies_operating_in_the_netherlands...   \n",
       "3             3                                            abi.pdf   \n",
       "4             4                                         adalat.pdf   \n",
       "..          ...                                                ...   \n",
       "531         531                                        zanussi.pdf   \n",
       "532         532                                        zenimax.pdf   \n",
       "533         533             zeramontedison_and_ihinkensstähler.pdf   \n",
       "534         534                                 zinc_phosphate.pdf   \n",
       "535         535                            zinc_producer_group.pdf   \n",
       "\n",
       "                                                  Text  \n",
       "0    Article 1 The Comité français d'organisation d...  \n",
       "1    Article 1   Anheuser -Busch InBev NV/SA, InBev...  \n",
       "2    Article 1 Thecontributions madebytheotheroilco...  \n",
       "3    Article1 Onthebasisofthefactsinitspossession,t...  \n",
       "4    Article 1 Theprohibition ontheexportation toot...  \n",
       "..                                                 ...  \n",
       "531  Article1 Ontheinformationatitsdisposal,theComm...  \n",
       "532  Article 1   ZeniMax  Media Inc., ZeniMax Europ...  \n",
       "533  Article1 FarmoplantSpA,Milan(subsequentlyAgrim...  \n",
       "534  Article 1 Britannia Alloys & Chemicals Limited...  \n",
       "535  Article 1  1. The undertakings :  Billiton Ned...  \n",
       "\n",
       "[536 rows x 3 columns]"
      ]
     },
     "execution_count": 5,
     "metadata": {},
     "output_type": "execute_result"
    }
   ],
   "source": [
    "pattern = r'D\\s*E\\s*C\\s*I\\s*S\\s*I\\s*O\\s*N\\s*:\\s*'\n",
    "\n",
    "# Function to extract text after pattern\n",
    "def extract_text_after_pattern(text):\n",
    "    match = re.search(pattern, text)\n",
    "    if match:\n",
    "        return text[match.end():]  # Extract text after the match\n",
    "    else:\n",
    "        return text\n",
    "\n",
    "final_decision['Text'] = final_decision['Text'].apply(lambda x: extract_text_after_pattern(x))\n",
    "final_decision"
   ]
  },
  {
   "cell_type": "code",
   "execution_count": 6,
   "metadata": {},
   "outputs": [],
   "source": [
    "# First Article\n",
    "\n",
    "# Define patterns\n",
    "pattern1 = r'A\\s*R\\s*T\\s*I\\s*C\\s*L\\s*E\\s*1\\s*'\n",
    "pattern2 = r'A\\s*R\\s*T\\s*I\\s*C\\s*L\\s*E\\s*2\\s*'\n",
    "\n",
    "# Extract text using regex\n",
    "def extract_text(row):\n",
    "    match1 = re.search(pattern1, row['Text'], flags=re.IGNORECASE)\n",
    "    match2 = re.search(pattern2, row['Text'], flags=re.IGNORECASE)\n",
    "\n",
    "    if match1:\n",
    "        start_index = match1.end()\n",
    "    else:\n",
    "        return \"\"\n",
    "\n",
    "    if match2:\n",
    "        end_index = match2.start()\n",
    "    else:\n",
    "        end_index = len(row['Text'])\n",
    "\n",
    "    return row['Text'][start_index:end_index]\n",
    "\n",
    "final_decision['Article 1'] = final_decision.apply(extract_text, axis=1)"
   ]
  },
  {
   "cell_type": "code",
   "execution_count": 7,
   "metadata": {},
   "outputs": [],
   "source": [
    "# Second Article\n",
    "\n",
    "# Define patterns\n",
    "pattern1 = r'A\\s*R\\s*T\\s*I\\s*C\\s*L\\s*E\\s*2\\s*'\n",
    "pattern2 = r'A\\s*R\\s*T\\s*I\\s*C\\s*L\\s*E\\s*3\\s*'\n",
    "\n",
    "# Extract text using regex\n",
    "def extract_text(row):\n",
    "    match1 = re.search(pattern1, row['Text'], flags=re.IGNORECASE)\n",
    "    match2 = re.search(pattern2, row['Text'], flags=re.IGNORECASE)\n",
    "\n",
    "    if match1:\n",
    "        start_index = match1.end()\n",
    "    else:\n",
    "        return \"\"\n",
    "\n",
    "    if match2:\n",
    "        end_index = match2.start()\n",
    "    else:\n",
    "        end_index = len(row['Text'])\n",
    "\n",
    "    return row['Text'][start_index:end_index]\n",
    "\n",
    "final_decision['Article 2'] = final_decision.apply(extract_text, axis=1)"
   ]
  },
  {
   "cell_type": "code",
   "execution_count": 8,
   "metadata": {},
   "outputs": [],
   "source": [
    "# Third Article\n",
    "\n",
    "# Define patterns\n",
    "pattern1 = r'A\\s*R\\s*T\\s*I\\s*C\\s*L\\s*E\\s*3\\s*'\n",
    "pattern2 = r'A\\s*R\\s*T\\s*I\\s*C\\s*L\\s*E\\s*4\\s*'\n",
    "\n",
    "# Extract text using regex\n",
    "def extract_text(row):\n",
    "    match1 = re.search(pattern1, row['Text'], flags=re.IGNORECASE)\n",
    "    match2 = re.search(pattern2, row['Text'], flags=re.IGNORECASE)\n",
    "\n",
    "    if match1:\n",
    "        start_index = match1.end()\n",
    "    else:\n",
    "        return \"\"\n",
    "\n",
    "    if match2:\n",
    "        end_index = match2.start()\n",
    "    else:\n",
    "        end_index = len(row['Text'])\n",
    "\n",
    "    return row['Text'][start_index:end_index]\n",
    "\n",
    "final_decision['Article 3'] = final_decision.apply(extract_text, axis=1)"
   ]
  },
  {
   "cell_type": "code",
   "execution_count": 10,
   "metadata": {},
   "outputs": [],
   "source": [
    "final_decision.to_csv(r'D:\\Proyectos\\db_comp\\en_outcomes.csv', index = False)"
   ]
  }
 ],
 "metadata": {
  "kernelspec": {
   "display_name": "Python 3",
   "language": "python",
   "name": "python3"
  },
  "language_info": {
   "codemirror_mode": {
    "name": "ipython",
    "version": 3
   },
   "file_extension": ".py",
   "mimetype": "text/x-python",
   "name": "python",
   "nbconvert_exporter": "python",
   "pygments_lexer": "ipython3",
   "version": "3.9.19"
  }
 },
 "nbformat": 4,
 "nbformat_minor": 2
}
